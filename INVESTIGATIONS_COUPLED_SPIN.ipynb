{
  "nbformat": 4,
  "nbformat_minor": 0,
  "metadata": {
    "colab": {
      "provenance": []
    },
    "kernelspec": {
      "name": "python3",
      "display_name": "Python 3"
    },
    "language_info": {
      "name": "python"
    }
  },
  "cells": [
    {
      "cell_type": "code",
      "execution_count": null,
      "metadata": {
        "id": "I7CLnoW5lCR0",
        "colab": {
          "base_uri": "https://localhost:8080/",
          "height": 594
        },
        "outputId": "c88560da-6126-4958-8c65-1f83ed8506b6"
      },
      "outputs": [
        {
          "output_type": "stream",
          "name": "stdout",
          "text": [
            "[array([-1000.,    -5.,     5.,  1000.]), array([-999.75      ,   -5.27493781,    4.77493781, 1000.25      ]), array([-999.5       ,   -5.59901951,    4.59901951, 1000.5       ]), array([-999.25      ,   -5.97015325,    4.47015325, 1000.75      ]), array([-999.        ,   -6.38516481,    4.38516481, 1001.        ]), array([-998.75      ,   -6.84016994,    4.34016994, 1001.25      ]), array([-998.5       ,   -7.33095189,    4.33095189, 1001.5       ]), array([-998.25      ,   -7.85327781,    4.35327781, 1001.75      ]), array([-998.        ,   -8.40312424,    4.40312424, 1002.        ]), array([-997.75      ,   -8.97681202,    4.47681202, 1002.25      ]), array([-997.5       ,   -9.57106781,    4.57106781, 1002.5       ]), array([-997.25      ,  -10.18303437,    4.68303437, 1002.75      ]), array([-997.        ,  -10.81024968,    4.81024968, 1003.        ]), array([-996.75      ,  -11.45060973,    4.95060973, 1003.25      ]), array([-996.5       ,  -12.10232527,    5.10232527, 1003.5       ]), array([-996.25      ,  -12.76387819,    5.26387819, 1003.75      ]), array([-996.        ,  -13.43398113,    5.43398113, 1004.        ]), array([-995.75      ,  -14.11154146,    5.61154146, 1004.25      ]), array([-995.5       ,  -14.79563014,    5.79563014, 1004.5       ]), array([-995.25      ,  -15.48545528,    5.98545528, 1004.75      ]), array([-995.        ,  -16.18033989,    6.18033989, 1005.        ]), array([-994.75      ,  -16.87970335,    6.37970335, 1005.25      ]), array([-994.5       ,  -17.58304597,    6.58304597, 1005.5       ]), array([-994.25     ,  -18.2899362,    6.7899362, 1005.75     ]), array([-994.,  -19.,    7., 1006.]), array([-993.75      ,  -19.71291202,    7.21291202, 1006.25      ]), array([-993.5       ,  -20.42838828,    7.42838828, 1006.5       ]), array([-993.25      ,  -21.14618005,    7.64618005, 1006.75      ]), array([-993.        ,  -21.86606875,    7.86606875, 1007.        ]), array([-992.75      ,  -22.58786165,    8.08786165, 1007.25      ]), array([-992.5      ,  -23.3113883,    8.3113883, 1007.5      ])]\n",
            "[-1000.    -5.     5.  1000.]\n",
            "[-998.75         -6.84016994    4.34016994 1001.25      ]\n",
            "[-997.5          -9.57106781    4.57106781 1002.5       ]\n",
            "[-995.          -16.18033989    6.18033989 1005.        ]\n",
            "[-975.          -75.24937811   25.24937811 1025.        ]\n"
          ]
        },
        {
          "output_type": "display_data",
          "data": {
            "text/plain": [
              "<Figure size 640x480 with 1 Axes>"
            ],
            "image/png": "[encoded data removed]"
          },
          "metadata": {}
        },
        {
          "output_type": "display_data",
          "data": {
            "text/plain": [
              "<Figure size 640x480 with 0 Axes>"
            ]
          },
          "metadata": {}
        }
      ],
      "source": [
        "import numpy as np\n",
        "import scipy as sp\n",
        "import matplotlib.pyplot as pl\n",
        "import matplotlib.patches as mpatches\n",
        "\n",
        "#States: |↑↑>, |↑↓>, |↓↑>, |↓↓>\n",
        "\n",
        "w0 = 1000\n",
        "delta = 10\n",
        "J = [0, 5, 10, 20, 100]\n",
        "J_spectrum = np.linspace(0,5000,5001)\n",
        "\n",
        "#Identity matrix 2x2\n",
        "I = np.identity(2)\n",
        "\n",
        "#Spin operators (pauli matricies)\n",
        "S_Z = (0.5)*(sp.constants.hbar)*np.array([[1,0],[0,-1]])\n",
        "S_X = (0.5)*(sp.constants.hbar)*np.array([[0,1],[1,0]])\n",
        "S_Y = (0.5)*(sp.constants.hbar)*np.array([[0,-1j],[1j,0]]) #j here is the imaginary number (numpy notation)\n",
        "\n",
        "#Spin operators (pauli matricies - normalised) - im normalising because I_AZ@I_BZ gives elements in order of x10^-69 so essentially zero\n",
        "S_Znorm = (0.5)*np.array([[1,0],[0,-1]])\n",
        "S_Xnorm = (0.5)*np.array([[0,1],[1,0]])\n",
        "S_Ynorm = (0.5)*np.array([[0,-1j],[1j,0]])\n",
        "\n",
        "#Nuclear spin operators\n",
        "I_AZ = np.kron(S_Z,I)\n",
        "I_BZ = np.kron(I,S_Z)\n",
        "\n",
        "I_AX = np.kron(S_X,I)\n",
        "I_BX = np.kron(I,S_X)\n",
        "\n",
        "I_AY = np.kron(S_Y, I)\n",
        "I_BY = np.kron(I,S_Y)\n",
        "\n",
        "I_AP = I_AX + 1j*I_AY\n",
        "I_BP = I_BX + 1j*I_BY\n",
        "\n",
        "I_AN = I_AX - 1j*I_AY\n",
        "I_BN = I_BX - 1j*I_BY\n",
        "\n",
        "#Normalised nuclear spin operators\n",
        "I_AZnorm = np.kron(S_Znorm,I)\n",
        "I_BZnorm = np.kron(I,S_Znorm)\n",
        "\n",
        "I_AXnorm = np.kron(S_Xnorm,I)\n",
        "I_BXnorm = np.kron(I,S_Xnorm)\n",
        "\n",
        "I_AYnorm = np.kron(S_Ynorm, I)\n",
        "I_BYnorm = np.kron(I,S_Ynorm)\n",
        "\n",
        "I_APnorm = I_AXnorm + 1j*I_AYnorm\n",
        "I_BPnorm = I_BXnorm + 1j*I_BYnorm\n",
        "\n",
        "I_ANnorm = I_AXnorm - 1j*I_AYnorm\n",
        "I_BNnorm = I_BXnorm - 1j*I_BYnorm\n",
        "\n",
        "#States\n",
        "UU = np.array([[1],[0],[0],[0]])\n",
        "UD = np.array([[0],[1],[0],[0]])\n",
        "DU = np.array([[0],[0],[1],[0]])\n",
        "DD = np.array([[0],[0],[0],[1]])\n",
        "states = np.array([UU,UD,DU,DD])\n",
        "\n",
        "def HamilitonianNorm(w0,delta,J):\n",
        "  H = (w0 + delta/2)*I_AZnorm + (w0 - delta/2)*I_BZnorm + J*(I_AZnorm@I_BZnorm + (0.5)*(I_APnorm@I_BNnorm + I_ANnorm@I_BPnorm)) #changed * to @ for matrix multiplication\n",
        "  return(H)\n",
        "\n",
        "def ApplyHamilitonian(w0,delta,J,state):\n",
        "  H = []\n",
        "  for i in J:\n",
        "    for j in state:\n",
        "      H.append(HamilitonianNorm(w0,delta,i)@j)\n",
        "\n",
        "def SpectrumNorm(w0,delta,J):\n",
        "  H_array = []\n",
        "  seen = []\n",
        "  EigVals = []\n",
        "  for i in J:\n",
        "    H = HamilitonianNorm(w0,delta,i)\n",
        "    H_array.append(H)  # Creates a list of the Hamiltionian matricies - doing this so i can check if they are equal, which i don't think they should be\n",
        "    eigenvalues = np.linalg.eigvalsh(H) #Getting eigen values\n",
        "    EigVals.append(eigenvalues) #Appending to a list\n",
        "    #print(f\"J = {i}: Eigenvalues = {eigenvalues}\")\n",
        "\n",
        "\n",
        "  for H in H_array:\n",
        "    if any(np.array_equal(H, seen_H) for seen_H in seen):  # checks if matricies are the exact same\n",
        "            print(\"duplicates found:\\n\", H)\n",
        "    seen.append(H)\n",
        "    return EigVals\n",
        "\n",
        "# eigenvalues_list = SpectrumNorm(w0, delta, J_spectrum)\n",
        "eigenvalues_list2 = SpectrumNorm(w0, delta, J_spectrum)\n",
        "eigenvalues_list5 = SpectrumNorm(w0, delta, J)\n",
        "eigenvalues_list3 = np.ravel(eigenvalues_list2)\n",
        "# Transpose to group eigenvalues for each J separately\n",
        "eigenvalues_list = np.array(eigenvalues_list2).T\n",
        "#print(eigenvalues_list)\n",
        "# Plot each eigenvalue trajectory across J values\n",
        "  # for i, eigenvalues in enumerate(eigenvalues_list):\n",
        "  #     pl.scatter( J_spectrum, eigenvalues, marker='.', s=20, label=f\"Eigenvalue {i+1}\")\n",
        "\n",
        "\n",
        "#window function for attempted differences between energy levels plot\n",
        "for i in eigenvalues_list5:\n",
        "  diff1 = abs(i[0] - i[1])\n",
        "  diff2 = abs(i[1] - i[2])\n",
        "  diff3 = abs(i[2] - i[3])\n",
        "  for j in J:\n",
        "    pl.scatter(j,diff1, label = 'UU - UD',color= 'red')\n",
        "    pl.scatter(j,diff2, label = 'UD - DU',color= 'blue')\n",
        "    pl.scatter(j,diff3, label = 'DU - DD',color= 'green')\n",
        "  print(i)\n",
        "pl.grid(True, alpha = 0.5)\n",
        "pl.minorticks_on()\n",
        "patchList = []\n",
        "legend_dict = { '|DU - DD|' : 'green', '|UU - UD|' : 'red', '|UD - DU|' : 'blue' }\n",
        "pl.xlabel('J')\n",
        "pl.ylabel('Difference between eigenvalues')\n",
        "for key in legend_dict:\n",
        "        data_key = mpatches.Patch(color=legend_dict[key], label=key)\n",
        "        patchList.append(data_key)\n",
        "\n",
        "pl.legend(handles=patchList)\n",
        "pl.show()\n",
        "\n",
        "#Figure 1 and 2 in the report\n",
        "for i, eigenvalues in enumerate(eigenvalues_list):\n",
        "    #pl.scatter( J_spectrum, abs(eigenvalues), marker='.', s=20, label=f\"Eigenvalue {i+1}\")     this is the absolute values of the eigenvalues.\n",
        "    pl.scatter( J_spectrum, eigenvalues, marker='.', s=20, label=f\"Eigenvalue {i+1}\")\n",
        "\n",
        "pl.plot([w0,w0],[-5000,5500], linestyle = '--', color = 'black', label = '$\\omega_{0}$')\n",
        "\n",
        "pl.xlabel(\"J\")\n",
        "pl.ylabel(\"Eigenvalues\")\n",
        "pl.title(\"Eigenvalue Spectrum vs J\")\n",
        "# pl.xlim(-200,5200)\n",
        "# pl.ylim(-4000,2500)\n",
        "# pl.xlim(990,1010)\n",
        "# pl.ylim(-760,-740)\n",
        "pl.grid(True, alpha = 0.5)\n",
        "pl.legend(loc='lower right')\n",
        "#print(I_AZnorm)\n",
        "pl.clf()\n",
        "\n",
        "\n",
        "\n",
        "\n"
      ]
    },
    {
      "cell_type": "code",
      "source": [],
      "metadata": {
        "id": "yTE4skWWx-k6"
      },
      "execution_count": null,
      "outputs": []
    },
    {
      "cell_type": "code",
      "source": [],
      "metadata": {
        "id": "uvqPg8xpx-2M"
      },
      "execution_count": null,
      "outputs": []
    },
    {
      "cell_type": "code",
      "source": [],
      "metadata": {
        "id": "fVaR1hqVj0vn"
      },
      "execution_count": null,
      "outputs": []
    },
    {
      "cell_type": "code",
      "source": [],
      "metadata": {
        "id": "DPDKj7WFjt7N"
      },
      "execution_count": null,
      "outputs": []
    },
    {
      "cell_type": "code",
      "source": [],
      "metadata": {
        "id": "UyxHOaaFIFbf"
      },
      "execution_count": null,
      "outputs": []
    }
  ]
}